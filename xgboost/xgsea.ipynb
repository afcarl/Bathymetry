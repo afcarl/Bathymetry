{
 "cells": [
  {
   "cell_type": "markdown",
   "metadata": {},
   "source": [
    "0. Use raw score (output_margin=True)\n",
    "1. Run on all old labeled data\n",
    "2. Run on new data\n",
    "3. Map data on to Fladermaus\n",
    "4. Collect the full trajectory of scores"
   ]
  },
  {
   "cell_type": "code",
   "execution_count": 2,
   "metadata": {},
   "outputs": [],
   "source": [
    "# %load xgsea.py\n",
    "import os\n",
    "import pandas as pd\n",
    "import xgboost as xgb\n",
    "from sklearn import metrics\n",
    "from sklearn.model_selection import train_test_split\n",
    "import matplotlib.pyplot as plt\n",
    "import argparse\n",
    "import random\n",
    "import pickle"
   ]
  },
  {
   "cell_type": "code",
   "execution_count": 5,
   "metadata": {},
   "outputs": [],
   "source": [
    "''' notes\n",
    "max depth 8, num rounds 20 -> .85 r^2\n",
    "             num rounds 30 -> .87\n",
    "\n",
    "        + max_delta_step 2 -> .88\n",
    "\n",
    "fixed data set\n",
    "                           -> .89\n",
    "added depthdiff column\n",
    "                           -> .93\n",
    "removed id column\n",
    "                           -> .89\n",
    "gamma=.7 parameter added\n",
    "                           -> .89 (.002 increase)\n",
    "\n",
    "jamstec\n",
    "'eta': 1,\n",
    " 'max_delta_step': 1,\n",
    " 'max_depth': 11,\n",
    " 'nthread': 4,\n",
    " 'objective': 'binary:logistic',\n",
    " 'silent': 1}              -> .87\n",
    "\n",
    "\n",
    "'''\n",
    "\n",
    "def read(f):\n",
    "    # names = ['long','lat','depth','sigma_h','sigma_d','source_id','pred_depth','dens20', 'dens60','gravity','age','rate','sed thick', 'roughness', 'dens10']\n",
    "    \n",
    "    print('reading in data')\n",
    "    #data = pd.read_csv(f, delimiter='\\s+', names=names)\n",
    "    data = pd.read_hdf(f)\n",
    "    \n",
    "    return make_xgstuff(clean(data))\n",
    "\n",
    "def clean(data):\n",
    "    y = 'sigma_d'\n",
    "    # replace na with mean\n",
    "    print('cleaning data')\n",
    "    data.fillna(data.mean(), inplace=True)\n",
    "    \n",
    "    # change sigma_d to boolean, new method using list comprehension\n",
    "    data[y] = [x == 9999 for x in data[y]]\n",
    "\n",
    "    # create depthdiff column\n",
    "    data['depthdiff'] = data['depth'] - data['pred_depth']\n",
    "\n",
    "    # cleaner way to drop columns\n",
    "    return data.drop(['depth', 'source_id'], axis=1)\n",
    "\n",
    "def make_xgstuff(data):\n",
    "    y = 'sigma_d'\n",
    "    # split\n",
    "    train, test = train_test_split(data, test_size=.3)\n",
    "\n",
    "    # defines independent column names for test set\n",
    "    x = [x != y for x in list(data.columns)]\n",
    "    \n",
    "    # splits dataframe into x and y vectors\n",
    "    xtest = test.ix[:,x]\n",
    "    ytest = test[y]\n",
    "\n",
    "    xtrain = train.ix[:,x]\n",
    "    ytrain = train[y]\n",
    "\n",
    "    # convert to xgb data structures\n",
    "    xgtrain = xgb.DMatrix(xtrain.values, ytrain.values, \n",
    "                          feature_names=list(xtrain.columns))\n",
    "    xgtest = xgb.DMatrix(xtest.values, feature_names=list(xtrain.columns))\n",
    "    \n",
    "    return xgtrain, xgtest, ytest"
   ]
  },
  {
   "cell_type": "code",
   "execution_count": null,
   "metadata": {},
   "outputs": [],
   "source": [
    "# if __name__ == '__main__':\n",
    "# argument parser\n",
    "\n",
    "\"\"\"\n",
    "parser = argparse.ArgumentParser(description = \n",
    "    'generates xgb model from seafloor dataset')\n",
    "\n",
    "parser.add_argument('dataset',\n",
    "                    help = 'hdf dataset to model')\n",
    "\n",
    "parser.add_argument('name', \n",
    "                    help = 'name of dataset')\n",
    "\n",
    "arg = parser.parse_args()\n",
    "\"\"\"\n",
    "\n",
    "arg = {}\n",
    "arg[\"dataset\"] = \"../nga.hdf5\"\n",
    "arg[\"name\"] = \"nga\"\n",
    "\n",
    "# housekeeping\n",
    "random.seed(1105)\n",
    "\n",
    "xgtrain, xgtest, ytest = read(arg[\"dataset\"])\n",
    "\n",
    "# parameters\n",
    "param = {\n",
    "    'jam': { # works well with geodas, sio also\n",
    "        'max_depth':11, \n",
    "        'eta':1, \n",
    "        'silent':1, \n",
    "        'objective':'binary:logistic',\n",
    "        'nthread':6,\n",
    "        'max_delta_step':1\n",
    "    },\n",
    "    'nga': {\n",
    "        'max_depth':10,\n",
    "        'max_delta_step':2,\n",
    "        'gamma':.7,\n",
    "        'eta':1, \n",
    "        'objective':'binary:logistic',\n",
    "        'nthread':4,\n",
    "        'silent':1\n",
    "    },\n",
    "    'sio': {\n",
    "        'max_depth':20,\n",
    "        'eta':1,\n",
    "        'silent':1,\n",
    "        'objective':'binary:logistic',\n",
    "        'nthread':6,\n",
    "        'max_delta_step':1\n",
    "    },\n",
    "}\n",
    "\n",
    "param['ngdc'] = {**param['jam'], 'max_depth':8}\n",
    "\n",
    "num_round = 30"
   ]
  },
  {
   "cell_type": "code",
   "execution_count": 10,
   "metadata": {},
   "outputs": [
    {
     "name": "stdout",
     "output_type": "stream",
     "text": [
      "training\n",
      "error: 1.84%\n",
      "0.997585161684\n"
     ]
    }
   ],
   "source": [
    "# train\n",
    "print('training')\n",
    "\n",
    "if arg[\"name\"] not in param:\n",
    "    print('no params found for dataset, using jamstec as default')\n",
    "    name = 'jam'\n",
    "\n",
    "else:\n",
    "    name = arg[\"name\"]\n",
    "\n",
    "bst = xgb.train(param[name], xgtrain, num_round)\n",
    "\n",
    "# test\n",
    "#print('calculating r2')\n",
    "preds = bst.predict(xgtest)\n",
    "\n",
    "# print error\n",
    "err = sum(1 for pred, actual in zip(preds, ytest) if (pred>.5)!=actual) / len(preds)\n",
    "print('error: {:.2%}'.format(err))\n",
    "\n",
    "# roc\n",
    "print(metrics.roc_auc_score(ytest, preds))"
   ]
  },
  {
   "cell_type": "code",
   "execution_count": 11,
   "metadata": {},
   "outputs": [],
   "source": [
    "# save\n",
    "pickle.dump((ytest, preds), open('dump.pkl', 'wb'))"
   ]
  },
  {
   "cell_type": "code",
   "execution_count": 29,
   "metadata": {},
   "outputs": [],
   "source": [
    "ytest_array = np.array(ytest)\n",
    "no_ytest_array = np.logical_not(ytest_array)"
   ]
  },
  {
   "cell_type": "code",
   "execution_count": 30,
   "metadata": {},
   "outputs": [
    {
     "data": {
      "text/plain": [
       "((319882,), (1324377,))"
      ]
     },
     "execution_count": 30,
     "metadata": {},
     "output_type": "execute_result"
    }
   ],
   "source": [
    "preds[ytest_array].shape, preds[no_ytest_array].shape"
   ]
  },
  {
   "cell_type": "code",
   "execution_count": 19,
   "metadata": {
    "scrolled": false
   },
   "outputs": [
    {
     "data": {
      "text/plain": [
       "(0, 5000)"
      ]
     },
     "execution_count": 19,
     "metadata": {},
     "output_type": "execute_result"
    },
    {
     "data": {
      "image/png": "[encoded data removed]",
      "text/plain": [
       "<matplotlib.figure.Figure at 0x117aeb5f8>"
      ]
     },
     "metadata": {},
     "output_type": "display_data"
    }
   ],
   "source": [
    "plt.hist(preds, bins=1000);\n",
    "plt.xlim(0.01, 0.99)\n",
    "plt.ylim(0, 5000)"
   ]
  },
  {
   "cell_type": "code",
   "execution_count": 33,
   "metadata": {},
   "outputs": [
    {
     "data": {
      "image/png": "[encoded data removed]",
      "text/plain": [
       "<matplotlib.figure.Figure at 0x11a0cd4a8>"
      ]
     },
     "metadata": {},
     "output_type": "display_data"
    }
   ],
   "source": [
    "hist(preds[ytest_array], bins=1000, label=\"positive\")\n",
    "hist(preds[no_ytest_array], bins=1000, label=\"negative\")\n",
    "plt.xlim(0.1, 0.9)\n",
    "plt.ylim(0, 500)\n",
    "plt.legend();"
   ]
  },
  {
   "cell_type": "code",
   "execution_count": null,
   "metadata": {},
   "outputs": [],
   "source": []
  },
  {
   "cell_type": "code",
   "execution_count": null,
   "metadata": {},
   "outputs": [],
   "source": []
  },
  {
   "cell_type": "code",
   "execution_count": null,
   "metadata": {},
   "outputs": [],
   "source": [
    "# save model\n",
    "base_name = os.path.basename(arg.dataset)\n",
    "type, _ = os.path.splitext(base_name)\n",
    "# folder = '/Users/btea/models/{}'.format(type)\n",
    "\n",
    "# makes folder if it dne\n",
    "if not os.path.isdir(folder):\n",
    "    os.mkdir(folder)\n",
    "\n",
    "os.chdir(folder)\n",
    "\n",
    "# dens\n",
    "plt.style.use('ggplot')\n",
    "pd.Series(data=preds, dtype='float32').plot.kde()\n",
    "plt.tight_layout()\n",
    "plt.savefig('dens.png')\n",
    "\n",
    "'''bst.save_model('{:.4f}_error.model'.format(err))\n",
    "\n",
    "plt.style.use('ggplot')\n",
    "for t in ['gain', 'cover', 'weight']:\n",
    "    xgb.plot_importance(bst, title=type, importance_type=t, show_values=False)\n",
    "    plt.tight_layout()\n",
    "    plt.savefig(t+'.png')'''"
   ]
  },
  {
   "cell_type": "code",
   "execution_count": null,
   "metadata": {},
   "outputs": [],
   "source": []
  }
 ],
 "metadata": {
  "kernelspec": {
   "display_name": "Python 3",
   "language": "python",
   "name": "python3"
  },
  "language_info": {
   "codemirror_mode": {
    "name": "ipython",
    "version": 3
   },
   "file_extension": ".py",
   "mimetype": "text/x-python",
   "name": "python",
   "nbconvert_exporter": "python",
   "pygments_lexer": "ipython3",
   "version": "3.6.3"
  }
 },
 "nbformat": 4,
 "nbformat_minor": 2
}
